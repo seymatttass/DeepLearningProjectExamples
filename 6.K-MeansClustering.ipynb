{
 "cells": [
  {
   "cell_type": "markdown",
   "id": "1e3cc0c3",
   "metadata": {},
   "source": [
    "# K-MEANS CLUSTERING "
   ]
  },
  {
   "cell_type": "markdown",
   "id": "cb489904",
   "metadata": {},
   "source": [
    "ÇOK FAZLA SAYIDAKİ HAM VERİYİ GRUPLARA AYIRMAK İÇİN KULLANILIR."
   ]
  },
  {
   "cell_type": "markdown",
   "id": "0d616b26",
   "metadata": {},
   "source": [
    "UNSUPERLEARNING MODELDİR. ham veriler hakkında önceden sizin sınıflandırma yapmamanız gerekir.YZ sizin için sınıflandırmayı yapar,ona yol göstermenize gerek yoktur.Tüm işi kendi halleder.Bu işlem yapılırken centroid sistemini kullanr.(yuvarlak şekiller)\n",
    "### Unsuperlearning modellerinden en yaygın kullanılanıdır.\n"
   ]
  },
  {
   "cell_type": "markdown",
   "id": "9185fafe",
   "metadata": {},
   "source": [
    "Ham datayı gruplamak için önce kaç adet grup kullanacağını siz algoritmaya söylemeniz lazım: Kmeans kelimesindeki K => K adet centrodii ifade eder.\n",
    "yani kaç gruba bölmesi gerektiğini söyleriz."
   ]
  },
  {
   "cell_type": "markdown",
   "id": "3ee45cc9",
   "metadata": {},
   "source": [
    "### NASIL ÇALIŞIR ?\n",
    "1. K adet centroid (merkez nokta) seçilir.\n",
    "2. her veriyi (noktayı) kendisine en yakın centroid grubuna dahil eder.k:3 ise 3 farklı gruba böler.\n",
    "3. Her centroidin merkezini kendi grubundaki noktalara bakarak tekrar hesaplar,her renk için ağırlık merkezini hesaplar ve centroidi yeni merkez lokasyonuna koyar.ağırlık merkezini bulur yeni merkezleri\n",
    "4. 2 ve 3 adımı centroidler artık yer değiştirmeyene kadar devam ettirir.\n",
    "5. Artık centroidlerin merkezi değişmemektedir,bu durumda gruplamayı bitirir."
   ]
  },
  {
   "cell_type": "markdown",
   "id": "26ca2bd3",
   "metadata": {},
   "source": [
    "### Yeni bir nokta geldi karar verelim : \n",
    "Gruplandırma işlemi bittiğinde yeni bir\n",
    "veri(nokta) geldiğinde, bu noktayı hangi gruba\n",
    "dahil edeceğine karar verirken en yakın\n",
    "centroid belirlenerek o centroidin bağlı olduğu\n",
    "gruba ait olduğu kararlaştırılır."
   ]
  },
  {
   "cell_type": "markdown",
   "id": "8d9d9576",
   "metadata": {},
   "source": [
    "### K değerini belirlerken elbow metodu kullanılır.\n",
    "K değerleri distortion değerleri ile birlikte grafiğe\n",
    "döktünüzde dirsek noktasında bulunan K değeri en\n",
    "optimal K değeri olarak kabul edilir.  \n",
    "Grafikteki alt dirsek noktası en iyi k değeri kabu edilir."
   ]
  },
  {
   "cell_type": "markdown",
   "id": "9c8e6388",
   "metadata": {},
   "source": [
    "### NERDE KULLANILIR : \n",
    "Çok sayıda veri varsa ve biz sınıflandırma yapmayacaksak YZ SINIFLANDIRACAK.  \n",
    "Toplu verinizin olduğu ve gruplama yapmak\n",
    "istediğiniz ancak yapamadığınız her alanda\n",
    "kullanabilirsiniz.  \n",
    "MESELA...  \n",
    "Müşteri segmentasyon alanında büyük şirketler kullanır.\n"
   ]
  },
  {
   "cell_type": "markdown",
   "id": "3b44652a",
   "metadata": {},
   "source": [
    "### MÜŞTERİ SEGMENTASYONU \n",
    "AVM ler müşterilerin kartları sayesinde bazı bilgiler kaydetmiştir.Ancak bir gruplama yapmamıştır.Bu müşteirler için gruplama yapacağız."
   ]
  },
  {
   "cell_type": "code",
   "execution_count": 7,
   "id": "8695f830",
   "metadata": {},
   "outputs": [
    {
     "data": {
      "text/html": [
       "<div>\n",
       "<style scoped>\n",
       "    .dataframe tbody tr th:only-of-type {\n",
       "        vertical-align: middle;\n",
       "    }\n",
       "\n",
       "    .dataframe tbody tr th {\n",
       "        vertical-align: top;\n",
       "    }\n",
       "\n",
       "    .dataframe thead th {\n",
       "        text-align: right;\n",
       "    }\n",
       "</style>\n",
       "<table border=\"1\" class=\"dataframe\">\n",
       "  <thead>\n",
       "    <tr style=\"text-align: right;\">\n",
       "      <th></th>\n",
       "      <th>CustomerID</th>\n",
       "      <th>Annual Income (k$)</th>\n",
       "      <th>Spending Score (1-100)</th>\n",
       "    </tr>\n",
       "  </thead>\n",
       "  <tbody>\n",
       "    <tr>\n",
       "      <th>0</th>\n",
       "      <td>1</td>\n",
       "      <td>15</td>\n",
       "      <td>39</td>\n",
       "    </tr>\n",
       "    <tr>\n",
       "      <th>1</th>\n",
       "      <td>2</td>\n",
       "      <td>15</td>\n",
       "      <td>81</td>\n",
       "    </tr>\n",
       "    <tr>\n",
       "      <th>2</th>\n",
       "      <td>3</td>\n",
       "      <td>16</td>\n",
       "      <td>6</td>\n",
       "    </tr>\n",
       "    <tr>\n",
       "      <th>3</th>\n",
       "      <td>4</td>\n",
       "      <td>16</td>\n",
       "      <td>77</td>\n",
       "    </tr>\n",
       "    <tr>\n",
       "      <th>4</th>\n",
       "      <td>5</td>\n",
       "      <td>17</td>\n",
       "      <td>40</td>\n",
       "    </tr>\n",
       "  </tbody>\n",
       "</table>\n",
       "</div>"
      ],
      "text/plain": [
       "   CustomerID  Annual Income (k$)  Spending Score (1-100)\n",
       "0           1                  15                      39\n",
       "1           2                  15                      81\n",
       "2           3                  16                       6\n",
       "3           4                  16                      77\n",
       "4           5                  17                      40"
      ]
     },
     "execution_count": 7,
     "metadata": {},
     "output_type": "execute_result"
    }
   ],
   "source": [
    "from sklearn.cluster import KMeans\n",
    "import pandas as pd\n",
    "from sklearn.preprocessing  import MinMaxScaler\n",
    "from matplotlib import pyplot as plt \n",
    "\n",
    "\n",
    "df = pd.read_csv(\"Avm_Musterileri.csv\")\n",
    "df.head()"
   ]
  },
  {
   "cell_type": "code",
   "execution_count": 9,
   "id": "a1afa144",
   "metadata": {},
   "outputs": [
    {
     "data": {
      "image/png": "[encoded data removed]",
      "text/plain": [
       "<Figure size 640x480 with 1 Axes>"
      ]
     },
     "metadata": {},
     "output_type": "display_data"
    }
   ],
   "source": [
    "plt.scatter(df['Annual Income (k$)'],df['Spending Score (1-100)'])\n",
    "plt.xlabel('Annual Income (k$)')       # yıllık gelir\n",
    "plt.ylabel('Spending Score (1-100)')  #harcama skoru\n",
    "plt.show()"
   ]
  },
  {
   "cell_type": "code",
   "execution_count": 12,
   "id": "2205bbe6",
   "metadata": {},
   "outputs": [],
   "source": [
    "# sütun isimleri zuzun kısaltalım.\n",
    "df.rename(columns = {'Annual Income (k$)' : 'income'},inplace = True)\n",
    "df.rename(columns = {'Spending Score (1-100)' : 'score'},inplace = True)"
   ]
  },
  {
   "cell_type": "markdown",
   "id": "e9f0ae6a",
   "metadata": {},
   "source": [
    "### UNUTMAYIN ! Modelinize verileri basmadan önce mutlaka verilerinizi normalize etmelisiniz.!!!"
   ]
  },
  {
   "cell_type": "markdown",
   "id": "d7c65850",
   "metadata": {},
   "source": [
    "Normalizasyonu kendimiz yapmıştık ama şimdi sklearn kütüphanesi ile yapacağız.\n",
    "MinMaxScaler() fonksiyonunu kullanacağız.\n"
   ]
  },
  {
   "cell_type": "code",
   "execution_count": 17,
   "id": "3ad80b3b",
   "metadata": {},
   "outputs": [
    {
     "data": {
      "text/html": [
       "<div>\n",
       "<style scoped>\n",
       "    .dataframe tbody tr th:only-of-type {\n",
       "        vertical-align: middle;\n",
       "    }\n",
       "\n",
       "    .dataframe tbody tr th {\n",
       "        vertical-align: top;\n",
       "    }\n",
       "\n",
       "    .dataframe thead th {\n",
       "        text-align: right;\n",
       "    }\n",
       "</style>\n",
       "<table border=\"1\" class=\"dataframe\">\n",
       "  <thead>\n",
       "    <tr style=\"text-align: right;\">\n",
       "      <th></th>\n",
       "      <th>CustomerID</th>\n",
       "      <th>income</th>\n",
       "      <th>score</th>\n",
       "    </tr>\n",
       "  </thead>\n",
       "  <tbody>\n",
       "    <tr>\n",
       "      <th>0</th>\n",
       "      <td>1</td>\n",
       "      <td>0.000000</td>\n",
       "      <td>0.387755</td>\n",
       "    </tr>\n",
       "    <tr>\n",
       "      <th>1</th>\n",
       "      <td>2</td>\n",
       "      <td>0.000000</td>\n",
       "      <td>0.816327</td>\n",
       "    </tr>\n",
       "    <tr>\n",
       "      <th>2</th>\n",
       "      <td>3</td>\n",
       "      <td>0.008197</td>\n",
       "      <td>0.051020</td>\n",
       "    </tr>\n",
       "    <tr>\n",
       "      <th>3</th>\n",
       "      <td>4</td>\n",
       "      <td>0.008197</td>\n",
       "      <td>0.775510</td>\n",
       "    </tr>\n",
       "    <tr>\n",
       "      <th>4</th>\n",
       "      <td>5</td>\n",
       "      <td>0.016393</td>\n",
       "      <td>0.397959</td>\n",
       "    </tr>\n",
       "  </tbody>\n",
       "</table>\n",
       "</div>"
      ],
      "text/plain": [
       "   CustomerID    income     score\n",
       "0           1  0.000000  0.387755\n",
       "1           2  0.000000  0.816327\n",
       "2           3  0.008197  0.051020\n",
       "3           4  0.008197  0.775510\n",
       "4           5  0.016393  0.397959"
      ]
     },
     "execution_count": 17,
     "metadata": {},
     "output_type": "execute_result"
    }
   ],
   "source": [
    "scaler = MinMaxScaler()\n",
    "\n",
    "scaler.fit(df[['income']])\n",
    "df['income'] = scaler.transform(df[['income']])\n",
    "\n",
    "scaler.fit(df[['score']])\n",
    "df['score'] = scaler.transform(df[['score']])\n",
    "\n",
    "df.head()\n",
    "\n",
    "# en düşük değere 0 en yüksek değere 1 verir.normalizasyon 0-1 arasında yapılır."
   ]
  },
  {
   "cell_type": "code",
   "execution_count": 21,
   "id": "a047382a",
   "metadata": {},
   "outputs": [],
   "source": [
    "import warnings\n",
    "warnings.filterwarnings('ignore')    # HATALARI GÖSTERMEZ ÖNEMSİZ HATALARI..."
   ]
  },
  {
   "cell_type": "code",
   "execution_count": 22,
   "id": "2e8eaa7c",
   "metadata": {},
   "outputs": [],
   "source": [
    "k_range = range(1,11)   # 1-10 ARASI DEĞERLERE BAKALIM.\n",
    "\n",
    "list_dist = []\n",
    "\n",
    "for k in k_range:\n",
    "    kmeans_modelim = KMeans(n_clusters=k)\n",
    "    kmeans_modelim.fit(df[['income','score']])\n",
    "    list_dist.append(kmeans_modelim.inertia_)"
   ]
  },
  {
   "cell_type": "code",
   "execution_count": 23,
   "id": "2857356d",
   "metadata": {},
   "outputs": [
    {
     "data": {
      "image/png": "[encoded data removed]",
      "text/plain": [
       "<Figure size 640x480 with 1 Axes>"
      ]
     },
     "metadata": {},
     "output_type": "display_data"
    }
   ],
   "source": [
    "plt.xlabel('K')\n",
    "plt.ylabel('Distortion değeri (inertia)'),\n",
    "plt.plot(k_range,list_dist)\n",
    "plt.show()"
   ]
  },
  {
   "cell_type": "markdown",
   "id": "ed4d5e8e",
   "metadata": {},
   "source": [
    "## En iyi k değeri 5 bulduk."
   ]
  },
  {
   "cell_type": "code",
   "execution_count": 24,
   "id": "ba285e97",
   "metadata": {},
   "outputs": [
    {
     "data": {
      "text/plain": [
       "array([0, 2, 0, 2, 0, 2, 0, 2, 0, 2, 0, 2, 0, 2, 0, 2, 0, 2, 0, 2, 0, 2,\n",
       "       0, 2, 0, 2, 0, 2, 0, 2, 0, 2, 0, 2, 0, 2, 0, 2, 0, 2, 0, 2, 0, 3,\n",
       "       0, 2, 3, 3, 3, 3, 3, 3, 3, 3, 3, 3, 3, 3, 3, 3, 3, 3, 3, 3, 3, 3,\n",
       "       3, 3, 3, 3, 3, 3, 3, 3, 3, 3, 3, 3, 3, 3, 3, 3, 3, 3, 3, 3, 3, 3,\n",
       "       3, 3, 3, 3, 3, 3, 3, 3, 3, 3, 3, 3, 3, 3, 3, 3, 3, 3, 3, 3, 3, 3,\n",
       "       3, 3, 3, 3, 3, 3, 3, 3, 3, 3, 3, 3, 3, 1, 4, 1, 3, 1, 4, 1, 4, 1,\n",
       "       3, 1, 4, 1, 4, 1, 4, 1, 4, 1, 3, 1, 4, 1, 4, 1, 4, 1, 4, 1, 4, 1,\n",
       "       4, 1, 4, 1, 4, 1, 4, 1, 4, 1, 4, 1, 4, 1, 4, 1, 4, 1, 4, 1, 4, 1,\n",
       "       4, 1, 4, 1, 4, 1, 4, 1, 4, 1, 4, 1, 4, 1, 4, 1, 4, 1, 4, 1, 4, 1,\n",
       "       4, 1])"
      ]
     },
     "execution_count": 24,
     "metadata": {},
     "output_type": "execute_result"
    }
   ],
   "source": [
    "# k:5 değeri için k_means modeli oluşturalım.\n",
    "kmeans_modelim = KMeans(n_clusters=5)\n",
    "y_predicted = kmeans_modelim.fit_predict(df[['income','score']])\n",
    "y_predicted\n"
   ]
  },
  {
   "cell_type": "code",
   "execution_count": 25,
   "id": "67821bd9",
   "metadata": {},
   "outputs": [
    {
     "data": {
      "text/html": [
       "<div>\n",
       "<style scoped>\n",
       "    .dataframe tbody tr th:only-of-type {\n",
       "        vertical-align: middle;\n",
       "    }\n",
       "\n",
       "    .dataframe tbody tr th {\n",
       "        vertical-align: top;\n",
       "    }\n",
       "\n",
       "    .dataframe thead th {\n",
       "        text-align: right;\n",
       "    }\n",
       "</style>\n",
       "<table border=\"1\" class=\"dataframe\">\n",
       "  <thead>\n",
       "    <tr style=\"text-align: right;\">\n",
       "      <th></th>\n",
       "      <th>CustomerID</th>\n",
       "      <th>income</th>\n",
       "      <th>score</th>\n",
       "      <th>cluster</th>\n",
       "    </tr>\n",
       "  </thead>\n",
       "  <tbody>\n",
       "    <tr>\n",
       "      <th>0</th>\n",
       "      <td>1</td>\n",
       "      <td>0.000000</td>\n",
       "      <td>0.387755</td>\n",
       "      <td>0</td>\n",
       "    </tr>\n",
       "    <tr>\n",
       "      <th>1</th>\n",
       "      <td>2</td>\n",
       "      <td>0.000000</td>\n",
       "      <td>0.816327</td>\n",
       "      <td>2</td>\n",
       "    </tr>\n",
       "    <tr>\n",
       "      <th>2</th>\n",
       "      <td>3</td>\n",
       "      <td>0.008197</td>\n",
       "      <td>0.051020</td>\n",
       "      <td>0</td>\n",
       "    </tr>\n",
       "    <tr>\n",
       "      <th>3</th>\n",
       "      <td>4</td>\n",
       "      <td>0.008197</td>\n",
       "      <td>0.775510</td>\n",
       "      <td>2</td>\n",
       "    </tr>\n",
       "    <tr>\n",
       "      <th>4</th>\n",
       "      <td>5</td>\n",
       "      <td>0.016393</td>\n",
       "      <td>0.397959</td>\n",
       "      <td>0</td>\n",
       "    </tr>\n",
       "  </tbody>\n",
       "</table>\n",
       "</div>"
      ],
      "text/plain": [
       "   CustomerID    income     score  cluster\n",
       "0           1  0.000000  0.387755        0\n",
       "1           2  0.000000  0.816327        2\n",
       "2           3  0.008197  0.051020        0\n",
       "3           4  0.008197  0.775510        2\n",
       "4           5  0.016393  0.397959        0"
      ]
     },
     "execution_count": 25,
     "metadata": {},
     "output_type": "execute_result"
    }
   ],
   "source": [
    "df['cluster'] = y_predicted\n",
    "df.head()"
   ]
  },
  {
   "cell_type": "code",
   "execution_count": 27,
   "id": "8bf82f54",
   "metadata": {},
   "outputs": [
    {
     "data": {
      "text/plain": [
       "array([[0.09265859, 0.20319432],\n",
       "       [0.58638083, 0.82783883],\n",
       "       [0.08792846, 0.79962894],\n",
       "       [0.33029751, 0.49508692],\n",
       "       [0.6       , 0.16443149]])"
      ]
     },
     "execution_count": 27,
     "metadata": {},
     "output_type": "execute_result"
    }
   ],
   "source": [
    "# CENTROİDLERİ GÖRELİM.\n",
    "kmeans_modelim.cluster_centers_"
   ]
  },
  {
   "cell_type": "code",
   "execution_count": 31,
   "id": "3cfb3446",
   "metadata": {},
   "outputs": [
    {
     "data": {
      "image/png": "[encoded data removed]",
      "text/plain": [
       "<Figure size 640x480 with 1 Axes>"
      ]
     },
     "metadata": {},
     "output_type": "display_data"
    }
   ],
   "source": [
    "df1 = df[df.cluster==0]  # pandas filtreleme özelliği \n",
    "df2 = df[df.cluster==1]     # ile 5 df oluşturdum.ayrı renke oluşturmak için.\n",
    "df3 = df[df.cluster==2]\n",
    "df4 = df[df.cluster==3]\n",
    "df5 = df[df.cluster==4]\n",
    "\n",
    "plt.xlabel('income')\n",
    "plt.ylabel('score')\n",
    "plt.scatter(df1['income'],df1['score'],color='green')\n",
    "plt.scatter(df2['income'],df2['score'],color='red')\n",
    "plt.scatter(df3['income'],df3['score'],color='black')\n",
    "plt.scatter(df4['income'],df4['score'],color='orange')\n",
    "plt.scatter(df5['income'],df5['score'],color='purple')\n",
    "\n",
    "# kmeans_modelim.cluster_centers_ numpy 2 boyutlu array old.\n",
    "  #için x ve y sütunlarını kmeans_modelim.cluster_centers_[0:1]\n",
    "  #ve kmeans_modelim.cluster_centers_[:,1]  şeklinde scatter plot için alıyoruz.\n",
    "plt.scatter(kmeans_modelim.cluster_centers_[:,0],kmeans_modelim.cluster_centers_[:,1],color = 'blue',marker='X',label='centroid')\n",
    "plt.legend()\n",
    "plt.show()"
   ]
  },
  {
   "cell_type": "code",
   "execution_count": null,
   "id": "6c3ef006",
   "metadata": {},
   "outputs": [],
   "source": []
  }
 ],
 "metadata": {
  "kernelspec": {
   "display_name": "Python 3 (ipykernel)",
   "language": "python",
   "name": "python3"
  },
  "language_info": {
   "codemirror_mode": {
    "name": "ipython",
    "version": 3
   },
   "file_extension": ".py",
   "mimetype": "text/x-python",
   "name": "python",
   "nbconvert_exporter": "python",
   "pygments_lexer": "ipython3",
   "version": "3.11.5"
  }
 },
 "nbformat": 4,
 "nbformat_minor": 5
}
